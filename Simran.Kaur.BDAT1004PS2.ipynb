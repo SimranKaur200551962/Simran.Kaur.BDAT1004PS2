{
 "cells": [
  {
   "cell_type": "markdown",
   "id": "c8a49e7f",
   "metadata": {},
   "source": [
    "# BDAT1004- Data Programming\n",
    "## Problem Set 2\n",
    "# Question 1"
   ]
  },
  {
   "cell_type": "markdown",
   "id": "b5915270",
   "metadata": {},
   "source": [
    "Consider the following Python module:\n",
    "a = 0\n",
    "def b():\n",
    " global a\n",
    " a = c(a)\n",
    "def c(a):\n",
    " return a + 2\n",
    "After importing the module into the interpreter, you execute:\n",
    "b()\n",
    "b()\n",
    "b()\n",
    "a\n",
    "?\n",
    "What value is displayed when the last expression (a) is evaluated? Explain your \n",
    "answer by indicating what happens in every executed statement."
   ]
  },
  {
   "cell_type": "code",
   "execution_count": 1,
   "id": "461437dd",
   "metadata": {},
   "outputs": [],
   "source": [
    "a = 0\n",
    "def b():\n",
    "    global a\n",
    "    a = c(a)\n",
    "def c(a):\n",
    "    return a + 2"
   ]
  },
  {
   "cell_type": "code",
   "execution_count": 2,
   "id": "a50e844b",
   "metadata": {},
   "outputs": [],
   "source": [
    "b()"
   ]
  },
  {
   "cell_type": "code",
   "execution_count": 3,
   "id": "e77d7aa9",
   "metadata": {},
   "outputs": [],
   "source": [
    "b()"
   ]
  },
  {
   "cell_type": "code",
   "execution_count": 4,
   "id": "0dcbfe8b",
   "metadata": {},
   "outputs": [],
   "source": [
    "b()"
   ]
  },
  {
   "cell_type": "code",
   "execution_count": 5,
   "id": "28960a18",
   "metadata": {},
   "outputs": [
    {
     "data": {
      "text/plain": [
       "6"
      ]
     },
     "execution_count": 5,
     "metadata": {},
     "output_type": "execute_result"
    }
   ],
   "source": [
    "a"
   ]
  },
  {
   "cell_type": "markdown",
   "id": "86cdd063",
   "metadata": {},
   "source": [
    "The value given by the last statement 'a' is 6.\n",
    "As we see, the first value provided to 'a' was 0, and in function\n",
    "'c(a)' we incremented the value by 2.\n",
    "When we first called the function 'b()' in which 'a =c(a)' the global a's value incremented by 2, i.e., the vale of 'a' became 2.\n",
    "likewise the calling it two times again made the value of 'a' 6,i.e., 2+2+2=6.\n",
    "That's why the last statement 'a' was evaluated as 6."
   ]
  },
  {
   "cell_type": "markdown",
   "id": "479d37d8",
   "metadata": {},
   "source": [
    "### Question 2"
   ]
  },
  {
   "cell_type": "markdown",
   "id": "988414d4",
   "metadata": {},
   "source": [
    "Function fileLength(), given to you, takes the name of a file as input and returns \n",
    "the length of the file:\n",
    "fileLength('midterm.py')\n",
    "284\n",
    "fileLength('idterm.py')\n",
    "Traceback (most recent call last):\n",
    "File \"<pyshell#34>\", line 1, in <module>\n",
    " fileLength('idterm.py')\n",
    "File \"/Users/me/midterm.py\", line 3, in fileLength\n",
    " infile = open(filename)\n",
    "FileNotFoundError: [Errno 2] No such file or directory: \n",
    "'idterm.py'\n",
    "As shown above, if the file cannot be found by the interpreter or if it cannot be read \n",
    "as a text file, an exception will be raised. Modify function fileLength() so that a \n",
    "friendly message is printed instead:\n",
    ">>> fileLength('midterm.py')\n",
    "358\n",
    ">>> fileLength('idterm.py')\n",
    "File idterm.py not found."
   ]
  },
  {
   "cell_type": "code",
   "execution_count": 4,
   "id": "26550a61",
   "metadata": {
    "scrolled": true
   },
   "outputs": [],
   "source": [
    "def fileLength(fn):\n",
    "    try:\n",
    "        infile = open(fn, 'r')\n",
    "        contents = infile.read()\n",
    "        infile.close()\n",
    "        return len(contents)\n",
    "    except FileNotFoundError:\n",
    "        print(f\"File {fn} is not found.\")"
   ]
  },
  {
   "cell_type": "code",
   "execution_count": 7,
   "id": "e319c1c0",
   "metadata": {},
   "outputs": [
    {
     "data": {
      "text/plain": [
       "123"
      ]
     },
     "execution_count": 7,
     "metadata": {},
     "output_type": "execute_result"
    }
   ],
   "source": [
    "fileLength('filelength.txt')"
   ]
  },
  {
   "cell_type": "code",
   "execution_count": 6,
   "id": "00338e77",
   "metadata": {},
   "outputs": [
    {
     "name": "stdout",
     "output_type": "stream",
     "text": [
      "File idterm.py is not found.\n"
     ]
    }
   ],
   "source": [
    "fileLength('idterm.py')"
   ]
  },
  {
   "cell_type": "markdown",
   "id": "48caeb69",
   "metadata": {},
   "source": [
    "### Question 3"
   ]
  },
  {
   "cell_type": "markdown",
   "id": "91b8b9e8",
   "metadata": {},
   "source": [
    "Write a class named Marsupial that can be used as shown below:\n",
    " m = Marsupial()\n",
    " m.put_in_pouch('doll')\n",
    " m.put_in_pouch('firetruck')\n",
    " m.put_in_pouch('kitten')\n",
    " m.pouch_contents()\n",
    "['doll', 'firetruck', 'kitten']\n",
    "Now write a class named Kangaroo as a subclass of Marsupial that inherits all the \n",
    "attributes of Marsupial and also:\n",
    "a. extends the Marsupial __init__ constructor to take, as input, the \n",
    "coordinates x and y of the Kangaroo object,\n",
    "b. supports method jump that takes number values dx and dy as input and \n",
    "moves the kangaroo by dx units along the x-axis and by dy units along the y\u0002axis, and\n",
    "c. overloads the __str__ operator so it behaves as shown below.\n",
    " k = Kangaroo(0,0)\n",
    " print(k)\n",
    "I am a Kangaroo located at coordinates (0,0)\n",
    " k.put_in_pouch('doll')\n",
    " k.put_in_pouch('firetruck')\n",
    " k.put_in_pouch('kitten')\n",
    " k.pouch_contents()\n",
    "['doll', 'firetruck', 'kitten']\n",
    " k.jump(1,0)\n",
    " k.jump(1,0)\n",
    " k.jump(1,0)\n",
    " print(k)\n",
    "I am a Kangaroo located at coordinates (3,0)"
   ]
  },
  {
   "cell_type": "code",
   "execution_count": 26,
   "id": "8a0035fb",
   "metadata": {},
   "outputs": [],
   "source": [
    "class Marsupial:\n",
    "    def __init__(s):\n",
    "        s.pouch = []\n",
    "\n",
    "    def put_in_pouch(s, i):\n",
    "        s.pouch.append(i)\n",
    "\n",
    "    def pouch_contents(s):\n",
    "        return s.pouch\n",
    "\n",
    "class Kangaroo(Marsupial):\n",
    "    def __init__(s, x, y):\n",
    "        super().__init__()\n",
    "        s.x = x\n",
    "        s.y = y\n",
    "\n",
    "    def jump(s, dx, dy):\n",
    "        s.x += dx \n",
    "        s.y += dy\n",
    "\n",
    "    def __str__(s):\n",
    "        return f\"I am a Kangaroo located at coordinates ({s.x},{s.y})\"\n"
   ]
  },
  {
   "cell_type": "code",
   "execution_count": 27,
   "id": "73cf5e08",
   "metadata": {},
   "outputs": [
    {
     "name": "stdout",
     "output_type": "stream",
     "text": [
      "['doll', 'firetruck', 'kitten']\n"
     ]
    }
   ],
   "source": [
    "m = Marsupial()\n",
    "\n",
    "m.put_in_pouch('doll')\n",
    "m.put_in_pouch('firetruck')\n",
    "m.put_in_pouch('kitten')\n",
    "\n",
    "print(m.pouch_contents())  "
   ]
  },
  {
   "cell_type": "code",
   "execution_count": 28,
   "id": "fb190051",
   "metadata": {},
   "outputs": [
    {
     "name": "stdout",
     "output_type": "stream",
     "text": [
      "I am a Kangaroo located at coordinates (0,0)\n"
     ]
    }
   ],
   "source": [
    "k = Kangaroo(0, 0)\n",
    "print(k) "
   ]
  },
  {
   "cell_type": "code",
   "execution_count": 29,
   "id": "a9fa08a1",
   "metadata": {},
   "outputs": [
    {
     "name": "stdout",
     "output_type": "stream",
     "text": [
      "['doll', 'firetruck', 'kitten']\n"
     ]
    }
   ],
   "source": [
    "k.put_in_pouch('doll')\n",
    "k.put_in_pouch('firetruck')\n",
    "k.put_in_pouch('kitten')\n",
    "print(k.pouch_contents())"
   ]
  },
  {
   "cell_type": "code",
   "execution_count": 30,
   "id": "971376a3",
   "metadata": {},
   "outputs": [
    {
     "name": "stdout",
     "output_type": "stream",
     "text": [
      "I am a Kangaroo located at coordinates (3,0)\n"
     ]
    }
   ],
   "source": [
    "k.jump(1,0)\n",
    "k.jump(1,0)\n",
    "k.jump(1,0)\n",
    "print(k)"
   ]
  },
  {
   "cell_type": "markdown",
   "id": "57cadaa5",
   "metadata": {},
   "source": [
    "### Question 4"
   ]
  },
  {
   "cell_type": "markdown",
   "id": "01f026ea",
   "metadata": {},
   "source": [
    "Write function collatz() that takes a positive integer x as input and prints the \n",
    "Collatz sequence starting at x. A Collatz sequence is obtained by repeatedly applying \n",
    "this rule to the previous number x in the sequence:\n",
    "x = {\n",
    "𝑥/2 𝑖𝑓 𝑥 𝑖𝑠 𝑒𝑣𝑒𝑛\n",
    "3𝑥 + 1 𝑖𝑓 𝑥 𝑖𝑠 𝑜𝑑𝑑\n",
    "Your function should stop when the sequence gets to number 1. Your \n",
    "implementation must be recursive, without any loops.\n",
    " collatz(1)\n",
    "1\n",
    " collatz(10)\n",
    "10\n",
    "5\n",
    "16\n",
    "8\n",
    "4\n",
    "2\n",
    "1\n"
   ]
  },
  {
   "cell_type": "code",
   "execution_count": 32,
   "id": "e2be523b",
   "metadata": {},
   "outputs": [],
   "source": [
    "def collatz(x):\n",
    "    print(x)\n",
    "    if x == 1:\n",
    "        return\n",
    "    elif x % 2 == 0:\n",
    "        collatz(x // 2)\n",
    "    else:\n",
    "        collatz(3 * x + 1)"
   ]
  },
  {
   "cell_type": "code",
   "execution_count": 33,
   "id": "e4fe6cb1",
   "metadata": {},
   "outputs": [
    {
     "name": "stdout",
     "output_type": "stream",
     "text": [
      "1\n"
     ]
    }
   ],
   "source": [
    "collatz(1)"
   ]
  },
  {
   "cell_type": "code",
   "execution_count": 34,
   "id": "86c5af53",
   "metadata": {},
   "outputs": [
    {
     "name": "stdout",
     "output_type": "stream",
     "text": [
      "10\n",
      "5\n",
      "16\n",
      "8\n",
      "4\n",
      "2\n",
      "1\n"
     ]
    }
   ],
   "source": [
    "collatz(10)"
   ]
  },
  {
   "cell_type": "markdown",
   "id": "83c46d9d",
   "metadata": {},
   "source": [
    "### Question 5"
   ]
  },
  {
   "cell_type": "markdown",
   "id": "a61df076",
   "metadata": {},
   "source": [
    "Write a recursive method binary() that takes a non-negative \n",
    "integer n and prints the binary representation of integer n.\n",
    " binary(0)\n",
    "0\n",
    " binary(1)\n",
    "1\n",
    " binary(3)\n",
    "11\n",
    " binary(9)\n",
    "1001\n"
   ]
  },
  {
   "cell_type": "code",
   "execution_count": 35,
   "id": "4a7b8132",
   "metadata": {},
   "outputs": [],
   "source": [
    "def binary(n):\n",
    "    if n <= 1:\n",
    "        print(n, end='')\n",
    "    else:\n",
    "        binary(n // 2)\n",
    "        print(n % 2, end='')"
   ]
  },
  {
   "cell_type": "code",
   "execution_count": 36,
   "id": "33c83ec8",
   "metadata": {},
   "outputs": [
    {
     "name": "stdout",
     "output_type": "stream",
     "text": [
      "0"
     ]
    }
   ],
   "source": [
    "binary(0)"
   ]
  },
  {
   "cell_type": "code",
   "execution_count": 37,
   "id": "36dac915",
   "metadata": {},
   "outputs": [
    {
     "name": "stdout",
     "output_type": "stream",
     "text": [
      "1"
     ]
    }
   ],
   "source": [
    "binary(1)"
   ]
  },
  {
   "cell_type": "code",
   "execution_count": 38,
   "id": "197b4901",
   "metadata": {},
   "outputs": [
    {
     "name": "stdout",
     "output_type": "stream",
     "text": [
      "11"
     ]
    }
   ],
   "source": [
    "binary(3)"
   ]
  },
  {
   "cell_type": "code",
   "execution_count": 39,
   "id": "233e3d30",
   "metadata": {},
   "outputs": [
    {
     "name": "stdout",
     "output_type": "stream",
     "text": [
      "1001"
     ]
    }
   ],
   "source": [
    "binary(9)"
   ]
  },
  {
   "cell_type": "markdown",
   "id": "492ed368",
   "metadata": {},
   "source": [
    "### Question 6"
   ]
  },
  {
   "cell_type": "markdown",
   "id": "f539a900",
   "metadata": {},
   "source": [
    "Implement a class named HeadingParser that can be used to parse an HTML document, and retrieve and print all the headings in the document. You should implement your class as a subclass of HTMLParser, defined in Standard Library module html.parser. When fed a string containing HTML code, your class should print the headings, one per line and in the order in which they appear in the document. Each heading should be indented as follows: an h1 heading should have indentation 0, and h2 heading should have indentation 1, etc. Test your \n",
    "implementation using w3c.html.\n",
    " infile = open('w3c.html')\n",
    " content = infile.read()\n",
    " infile.close()\n",
    " hp = HeadingParser()\n",
    " hp.feed(content)\n",
    "W3C Mission\n",
    "Principles "
   ]
  },
  {
   "cell_type": "markdown",
   "id": "336b6928",
   "metadata": {},
   "source": [
    "### Question 7"
   ]
  },
  {
   "cell_type": "markdown",
   "id": "93bcdaa7",
   "metadata": {},
   "source": [
    "Implement recursive function webdir() that takes as input: a URL (as a string) and \n",
    "non-negative integers depth and indent. Your function should visit every web \n",
    "page reachable from the starting URL web page in depth clicks or less, and print \n",
    "each web page's URL. As shown below, indentation, specified by indent, should \n",
    "be used to indicate the depth of a URL. \n",
    "webdir('http://reed.cs.depaul.edu/lperkovic/csc242/test1.html'\n",
    ", 2, 0)\n",
    "http://reed.cs.depaul.edu/lperkovic/csc242/test1.html\n",
    " http://reed.cs.depaul.edu/lperkovic/csc242/test2.html\n",
    " http://reed.cs.depaul.edu/lperkovic/csc242/test4.html\n",
    " http://reed.cs.depaul.edu/lperkovic/csc242/test3.html\n",
    " http://reed.cs.depaul.edu/lperkovic/csc242/test4.html"
   ]
  },
  {
   "cell_type": "markdown",
   "id": "da0f0fb9",
   "metadata": {},
   "source": [
    "### Question 8"
   ]
  },
  {
   "cell_type": "markdown",
   "id": "9ae7db26",
   "metadata": {},
   "source": [
    "Write SQL queries on the below database table that return: \n",
    "1.  All the temperature data.\n",
    "2.  All the cities, but without repetition.\n",
    "3.  All the records for India.\n",
    "4.  All the Fall records\n",
    "5.  The city, country, and season for which the average rainfall is between 200 and 400 millimeters.\n",
    "5.  The city and country for which the average Fall temperature is above 20 degrees, in increasing temperature order.\n",
    "6.  The total annual rainfall for Cairo.\n",
    "7.  The total rainfall for each season."
   ]
  },
  {
   "cell_type": "code",
   "execution_count": 1,
   "id": "5899908f",
   "metadata": {},
   "outputs": [],
   "source": [
    "import sqlite3\n",
    "con = sqlite3.connect('temp.db')\n",
    "cur = con.cursor()\n",
    "cur.execute('''\n",
    "    CREATE TABLE Temp (\n",
    "        City TEXT,\n",
    "        Country TEXT,\n",
    "        Season TEXT,\n",
    "        Temperature FLOAT,\n",
    "        Rainfall  FLOAT\n",
    "    )\n",
    "''')\n",
    "con.commit()"
   ]
  },
  {
   "cell_type": "code",
   "execution_count": 3,
   "id": "75c45387",
   "metadata": {},
   "outputs": [
    {
     "data": {
      "text/plain": [
       "<sqlite3.Cursor at 0x21143272ac0>"
      ]
     },
     "execution_count": 3,
     "metadata": {},
     "output_type": "execute_result"
    }
   ],
   "source": [
    "record = ('Mumbai', 'India', 'Winter', 24.8, 5.9)\n",
    "cur.execute(\"INSERT INTO Temp VALUES (?,?,?,?,?)\",record)\n",
    "record = ('Mumbai', 'India', 'Spring', 28.4, 16.2)\n",
    "cur.execute(\"INSERT INTO Temp VALUES (?,?,?,?,?)\",record)\n",
    "record = ('Mumbai', 'India', 'Summer', 27.9, 1549.4)\n",
    "cur.execute(\"INSERT INTO Temp VALUES (?,?,?,?,?)\",record)\n",
    "record = ('Mumbai', 'India', 'Fall', 27.6, 346.0)\n",
    "cur.execute(\"INSERT INTO Temp VALUES (?,?,?,?,?)\",record)\n",
    "record = ('London', 'United Kingdom', 'Winter', 4.2, 207.7)\n",
    "cur.execute(\"INSERT INTO Temp VALUES (?,?,?,?,?)\",record)\n",
    "record = ('London', 'United Kingdom', 'Spring', 8.3, 169.6)\n",
    "cur.execute(\"INSERT INTO Temp VALUES (?,?,?,?,?)\",record)\n",
    "record = ('London', 'United Kingdom', 'Summer', 15.7, 157.0)\n",
    "cur.execute(\"INSERT INTO Temp VALUES (?,?,?,?,?)\",record)\n",
    "record = ('London', 'United Kingdom', 'Fall', 10.4, 218.5)\n",
    "cur.execute(\"INSERT INTO Temp VALUES (?,?,?,?,?)\",record)\n",
    "record = ('Cairo', 'Egypt', 'Winter', 13.6, 16.5)\n",
    "cur.execute(\"INSERT INTO Temp VALUES (?,?,?,?,?)\",record)\n",
    "record = ('Cairo', 'Egypt', 'Spring', 20.7, 6.5)\n",
    "cur.execute(\"INSERT INTO Temp VALUES (?,?,?,?,?)\",record)\n",
    "record = ('Cairo', 'Egypt', 'Summer', 27.7, 0.1)\n",
    "cur.execute(\"INSERT INTO Temp VALUES (?,?,?,?,?)\",record)\n",
    "record = ('Cairo', 'Egypt', 'Fall', 22.2, 4.5)\n",
    "cur.execute(\"INSERT INTO Temp VALUES (?,?,?,?,?)\",record)"
   ]
  },
  {
   "cell_type": "code",
   "execution_count": 4,
   "id": "89409852",
   "metadata": {},
   "outputs": [
    {
     "data": {
      "text/plain": [
       "[('Mumbai', 'India', 'Winter', 24.8, 5.9),\n",
       " ('Mumbai', 'India', 'Spring', 28.4, 16.2),\n",
       " ('Mumbai', 'India', 'Summer', 27.9, 1549.4),\n",
       " ('Mumbai', 'India', 'Fall', 27.6, 346.0),\n",
       " ('London', 'United Kingdom', 'Winter', 4.2, 207.7),\n",
       " ('London', 'United Kingdom', 'Spring', 8.3, 169.6),\n",
       " ('London', 'United Kingdom', 'Summer', 15.7, 157.0),\n",
       " ('London', 'United Kingdom', 'Fall', 10.4, 218.5),\n",
       " ('Cairo', 'Egypt', 'Winter', 13.6, 16.5),\n",
       " ('Cairo', 'Egypt', 'Spring', 20.7, 6.5),\n",
       " ('Cairo', 'Egypt', 'Summer', 27.7, 0.1),\n",
       " ('Cairo', 'Egypt', 'Fall', 22.2, 4.5)]"
      ]
     },
     "execution_count": 4,
     "metadata": {},
     "output_type": "execute_result"
    }
   ],
   "source": [
    "cur.execute('SELECT * FROM Temp')\n",
    "cur.fetchall()"
   ]
  },
  {
   "cell_type": "code",
   "execution_count": 6,
   "id": "8f50f438",
   "metadata": {
    "scrolled": true
   },
   "outputs": [
    {
     "name": "stdout",
     "output_type": "stream",
     "text": [
      "[(24.8,), (28.4,), (27.9,), (27.6,), (4.2,), (8.3,), (15.7,), (10.4,), (13.6,), (20.7,), (27.7,), (22.2,)]\n"
     ]
    }
   ],
   "source": [
    "cur.execute('SELECT Temperature FROM Temp')\n",
    "print(cur.fetchall())"
   ]
  },
  {
   "cell_type": "code",
   "execution_count": 7,
   "id": "fcbda08f",
   "metadata": {},
   "outputs": [
    {
     "name": "stdout",
     "output_type": "stream",
     "text": [
      "[('Mumbai',), ('London',), ('Cairo',)]\n"
     ]
    }
   ],
   "source": [
    "cur.execute('SELECT DISTINCT City FROM Temp')\n",
    "print(cur.fetchall())"
   ]
  },
  {
   "cell_type": "code",
   "execution_count": 20,
   "id": "5e5e025c",
   "metadata": {},
   "outputs": [
    {
     "name": "stdout",
     "output_type": "stream",
     "text": [
      "[('Mumbai', 'India', 'Winter', 24.8, 5.9), ('Mumbai', 'India', 'Spring', 28.4, 16.2), ('Mumbai', 'India', 'Summer', 27.9, 1549.4), ('Mumbai', 'India', 'Fall', 27.6, 346.0)]\n"
     ]
    }
   ],
   "source": [
    "word = 'India'\n",
    "cur.execute('SELECT * FROM Temp WHERE Country = ?', (word,))\n",
    "print(cur.fetchall())"
   ]
  },
  {
   "cell_type": "code",
   "execution_count": 19,
   "id": "848596b4",
   "metadata": {},
   "outputs": [
    {
     "name": "stdout",
     "output_type": "stream",
     "text": [
      "[('Mumbai', 'India', 'Fall', 27.6, 346.0), ('London', 'United Kingdom', 'Fall', 10.4, 218.5), ('Cairo', 'Egypt', 'Fall', 22.2, 4.5)]\n"
     ]
    }
   ],
   "source": [
    "word = 'Fall'\n",
    "cur.execute('SELECT * FROM Temp WHERE Season = ?', (word,))\n",
    "print(cur.fetchall())"
   ]
  },
  {
   "cell_type": "code",
   "execution_count": 21,
   "id": "12fbf22b",
   "metadata": {},
   "outputs": [
    {
     "name": "stdout",
     "output_type": "stream",
     "text": [
      "[('London', 'United Kingdom', 'Fall'), ('London', 'United Kingdom', 'Winter'), ('Mumbai', 'India', 'Fall')]\n"
     ]
    }
   ],
   "source": [
    "cur.execute(' SELECT City, Country, Season FROM Temp GROUP BY City, Country, Season HAVING AVG(Rainfall) BETWEEN 200 AND 400')\n",
    "print(cur.fetchall())"
   ]
  },
  {
   "cell_type": "code",
   "execution_count": 26,
   "id": "81eb99a1",
   "metadata": {},
   "outputs": [
    {
     "ename": "SyntaxError",
     "evalue": "invalid syntax. Perhaps you forgot a comma? (3414532569.py, line 1)",
     "output_type": "error",
     "traceback": [
      "\u001b[1;36m  Cell \u001b[1;32mIn[26], line 1\u001b[1;36m\u001b[0m\n\u001b[1;33m    cur.execute('SELECT City, Country FROM Temp WHERE Season = 'Fall' GROUP BY City, Country HAVING AVG(Temperature) > 20 ORDER BY AVG(Temperature)')\u001b[0m\n\u001b[1;37m                ^\u001b[0m\n\u001b[1;31mSyntaxError\u001b[0m\u001b[1;31m:\u001b[0m invalid syntax. Perhaps you forgot a comma?\n"
     ]
    }
   ],
   "source": [
    "cur.execute('SELECT City, Country FROM Temp WHERE Season = 'Fall' GROUP BY City, Country HAVING AVG(Temperature) > 20 ORDER BY AVG(Temperature)')\n",
    "print(cur.fetchall())"
   ]
  },
  {
   "cell_type": "code",
   "execution_count": 28,
   "id": "a9790803",
   "metadata": {},
   "outputs": [
    {
     "name": "stdout",
     "output_type": "stream",
     "text": [
      "[(27.6,)]\n"
     ]
    }
   ],
   "source": [
    "word = 'Cairo'\n",
    "cur.execute('SELECT SUM(Rainfall) AS Total_Rainfall FROM Temp WHERE City = ?', (word,))\n",
    "print(cur.fetchall())"
   ]
  },
  {
   "cell_type": "code",
   "execution_count": 29,
   "id": "c1734c3b",
   "metadata": {},
   "outputs": [
    {
     "name": "stdout",
     "output_type": "stream",
     "text": [
      "[('Fall', 569.0), ('Spring', 192.29999999999998), ('Summer', 1706.5), ('Winter', 230.1)]\n"
     ]
    }
   ],
   "source": [
    "cur.execute('SELECT Season, SUM(Rainfall) AS Total_Rainfall FROM Temp GROUP BY Season')\n",
    "print(cur.fetchall())"
   ]
  },
  {
   "cell_type": "markdown",
   "id": "27f68225",
   "metadata": {},
   "source": [
    " Suppose list words is defined as follows:\n",
    " words = ['The', 'quick', 'brown', 'fox', 'jumps', 'over', \n",
    "'the', 'lazy', 'dog']\n",
    "Write list comprehension expressions that use list words and generate the following \n",
    "lists:\n",
    "a) ['THE', 'QUICK', 'BROWN', 'FOX', 'JUMPS', 'OVER', 'THE', \n",
    "'LAZY', 'DOG']\n",
    "b) ['the', 'quick', 'brown', 'fox', 'jumps', 'over', 'the', \n",
    "'lazy', 'dog']\n",
    "c) [3, 5, 5, 3, 5, 4, 3, 4, 3] (the list of lengths of words in list \n",
    "words).\n",
    "d) [['THE', 'the', 3], ['QUICK', 'quick', 5], ['BROWN', \n",
    "'brown', 5], ['FOX', 'fox', 3], ['JUMPS', 'jumps', 5], \n",
    "['OVER', 'over', 4], ['THE', 'the', 3], ['LAZY', 'lazy', \n",
    "4], ['DOG', 'dog', 3]] (the list containing a list for every word of list \n",
    "words, where each list contains the word in uppercase and lowercase and the \n",
    "length of the word.)\n",
    "e) ['The', 'quick', 'brown', 'fox', 'jumps', 'over', 'the', \n",
    "'lazy', 'dog'] (the list of words in list words containing 4 or more \n",
    "characters.)"
   ]
  },
  {
   "cell_type": "code",
   "execution_count": 34,
   "id": "f5b12475",
   "metadata": {},
   "outputs": [],
   "source": [
    "words = ['The', 'quick', 'brown', 'fox', 'jumps', 'over', 'the', 'lazy', 'dog']"
   ]
  },
  {
   "cell_type": "code",
   "execution_count": 39,
   "id": "e7773885",
   "metadata": {},
   "outputs": [],
   "source": [
    "words_upper = [word.upper() for word in words]"
   ]
  },
  {
   "cell_type": "code",
   "execution_count": 40,
   "id": "452b84b6",
   "metadata": {},
   "outputs": [
    {
     "data": {
      "text/plain": [
       "['THE', 'QUICK', 'BROWN', 'FOX', 'JUMPS', 'OVER', 'THE', 'LAZY', 'DOG']"
      ]
     },
     "execution_count": 40,
     "metadata": {},
     "output_type": "execute_result"
    }
   ],
   "source": [
    "words_upper"
   ]
  },
  {
   "cell_type": "code",
   "execution_count": 41,
   "id": "e97b3a7a",
   "metadata": {},
   "outputs": [],
   "source": [
    "words_lower = [word.lower() for word in words]"
   ]
  },
  {
   "cell_type": "code",
   "execution_count": 42,
   "id": "821d3159",
   "metadata": {},
   "outputs": [
    {
     "data": {
      "text/plain": [
       "['the', 'quick', 'brown', 'fox', 'jumps', 'over', 'the', 'lazy', 'dog']"
      ]
     },
     "execution_count": 42,
     "metadata": {},
     "output_type": "execute_result"
    }
   ],
   "source": [
    "words_lower"
   ]
  },
  {
   "cell_type": "code",
   "execution_count": 43,
   "id": "b109a4e1",
   "metadata": {},
   "outputs": [],
   "source": [
    "word_len = [len(word) for word in words]"
   ]
  },
  {
   "cell_type": "code",
   "execution_count": 44,
   "id": "7e09dc23",
   "metadata": {},
   "outputs": [
    {
     "data": {
      "text/plain": [
       "[3, 5, 5, 3, 5, 4, 3, 4, 3]"
      ]
     },
     "execution_count": 44,
     "metadata": {},
     "output_type": "execute_result"
    }
   ],
   "source": [
    "word_len"
   ]
  },
  {
   "cell_type": "code",
   "execution_count": 45,
   "id": "4988de0c",
   "metadata": {},
   "outputs": [],
   "source": [
    "word_info = [[word.upper(), word.lower(), len(word)] for word in words]"
   ]
  },
  {
   "cell_type": "code",
   "execution_count": 46,
   "id": "aeb74d2b",
   "metadata": {},
   "outputs": [
    {
     "data": {
      "text/plain": [
       "[['THE', 'the', 3],\n",
       " ['QUICK', 'quick', 5],\n",
       " ['BROWN', 'brown', 5],\n",
       " ['FOX', 'fox', 3],\n",
       " ['JUMPS', 'jumps', 5],\n",
       " ['OVER', 'over', 4],\n",
       " ['THE', 'the', 3],\n",
       " ['LAZY', 'lazy', 4],\n",
       " ['DOG', 'dog', 3]]"
      ]
     },
     "execution_count": 46,
     "metadata": {},
     "output_type": "execute_result"
    }
   ],
   "source": [
    "word_info"
   ]
  },
  {
   "cell_type": "code",
   "execution_count": 48,
   "id": "f07e072a",
   "metadata": {},
   "outputs": [],
   "source": [
    "word_4ormore = [word for word in words if len(word) >= 4]"
   ]
  },
  {
   "cell_type": "code",
   "execution_count": 49,
   "id": "5763d61c",
   "metadata": {},
   "outputs": [
    {
     "data": {
      "text/plain": [
       "['quick', 'brown', 'jumps', 'over', 'lazy']"
      ]
     },
     "execution_count": 49,
     "metadata": {},
     "output_type": "execute_result"
    }
   ],
   "source": [
    "word_4ormore"
   ]
  }
 ],
 "metadata": {
  "kernelspec": {
   "display_name": "Python 3 (ipykernel)",
   "language": "python",
   "name": "python3"
  },
  "language_info": {
   "codemirror_mode": {
    "name": "ipython",
    "version": 3
   },
   "file_extension": ".py",
   "mimetype": "text/x-python",
   "name": "python",
   "nbconvert_exporter": "python",
   "pygments_lexer": "ipython3",
   "version": "3.11.3"
  }
 },
 "nbformat": 4,
 "nbformat_minor": 5
}
